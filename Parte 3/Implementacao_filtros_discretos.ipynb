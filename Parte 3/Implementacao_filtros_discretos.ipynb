{
  "nbformat": 4,
  "nbformat_minor": 0,
  "metadata": {
    "colab": {
      "provenance": []
    },
    "kernelspec": {
      "name": "python3",
      "display_name": "Python 3"
    },
    "language_info": {
      "name": "python"
    }
  },
  "cells": [
    {
      "cell_type": "markdown",
      "source": [
        "# Capítulo 6 – Implementação de Filtros em Tempo Discreto\n",
        "\n",
        "Nos capítulos anteriores estudamos a teoria dos sistemas discretos nos domínios do tempo e da frequência. Agora, utilizaremos essa teoria para o **processamento de sinais digitais**.\n",
        "\n",
        "Para processar sinais, precisamos projetar e implementar sistemas chamados **filtros** (ou **analisadores de espectro**, em certos contextos). A escolha do projeto do filtro é influenciada por fatores como:\n",
        "\n",
        "- O **tipo de filtro** (FIR ou IIR)\n",
        "- A **forma de implementação** (estruturas de realização)\n",
        "\n",
        "Por isso, **antes de discutirmos o projeto dos filtros**, focamos em como **essas estruturas podem ser implementadas na prática**, o que é essencial, pois diferentes estruturas impõem estratégias distintas de projeto.\n",
        "\n",
        "Além de descrever diferentes estruturas de filtros, também começamos a considerar **problemas relacionados à quantização**, que ocorrem devido ao uso de **aritmética de precisão finita** nos dispositivos digitais. Tanto os **coeficientes** dos filtros quanto as **operações de filtragem** sofrem os efeitos dessa limitação, tanto em implementações por hardware quanto por software.\n",
        "\n",
        "Começaremos com a descrição dos **blocos básicos** usados para representar estruturas de filtros. Em seguida, abordaremos brevemente as estruturas de filtros **IIR**, **FIR** e **em rede (lattice)**, com **funções MATLAB/Python** correspondentes. Por fim, estudaremos a **representação numérica**, a **caracterização dos erros** e os efeitos da **quantização dos coeficientes**.\n"
      ],
      "metadata": {
        "id": "xswE2LzBLRMr"
      }
    },
    {
      "cell_type": "markdown",
      "source": [
        "# 6.1 – Elementos Básicos (Basic Elements)\n",
        "\n",
        "Como nossos filtros digitais são sistemas LTI (lineares e invariantes no tempo), podemos representá-los utilizando três elementos fundamentais. Esses blocos formam a base para a construção de estruturas de filtros digitais, como será visto nos próximos tópicos.\n",
        "\n",
        "### 1. Somador (Adder)\n",
        "Elemento com **duas entradas** e **uma saída**, utilizado para somar sinais. A soma de três ou mais sinais pode ser feita encadeando somadores de duas entradas.\n",
        "\n",
        "### 2. Multiplicador (Ganho)\n",
        "Elemento com **uma entrada** e **uma saída**, que multiplica o sinal por um coeficiente. A multiplicação por 1 é implícita e geralmente omitida no diagrama.\n",
        "\n",
        "### 3. Elemento de Atraso (Delay ou Memória)\n",
        "Elemento que **atrasa o sinal em uma unidade de tempo amostral**. Este atraso é implementado através de registradores de deslocamento (shift registers) e representa a operação \\( z^{-1} \\).\n",
        "\n",
        "A partir desses três blocos é possível implementar qualquer estrutura de filtro FIR ou IIR."
      ],
      "metadata": {
        "id": "_xuL_1mxMEql"
      }
    },
    {
      "cell_type": "code",
      "source": [],
      "metadata": {
        "id": "a3QzS9EsMqSe"
      },
      "execution_count": null,
      "outputs": []
    },
    {
      "cell_type": "markdown",
      "source": [
        "## 6.2 Estruturas de Filtro IIR\n",
        "\n",
        "A função de sistema de um filtro IIR (Infinite Impulse Response) é dada por:\n",
        "\n",
        "$$ H(z) = \\frac{B(z)}{A(z)} = \\frac{\\sum_{n=0}^{M} b_n z^{-n}}{\\sum_{n=0}^{N} a_n z^{-n}} = \\frac{b_0 + b_1 z^{-1} + \\cdots + b_M z^{-M}}{1 + a_1 z^{-1} + \\cdots + a_N z^{-N}} $$\n",
        "\n",
        "onde $b_n$ e $a_n$ são os coeficientes do filtro. Assume-se sem perda de generalidade que $a_0 = 1$. A ordem de um filtro IIR é $N$ se $a_N \\neq 0$.\n",
        "\n",
        "A representação da equação de diferenças de um filtro IIR é expressa como:\n",
        "\n",
        "$$ y(n) = \\sum_{m=0}^{M} b_m x(n-m) - \\sum_{m=1}^{N} a_m y(n-m) $$\n",
        "\n",
        "Esta equação mostra que a saída atual $y(n)$ depende das amostras de entrada atuais e passadas $x(n-m)$, bem como das amostras de saída passadas $y(n-m)$.\n",
        "\n",
        "Existem 3 estruturas que podem ser usadas para implementar um filtro IIR:\n",
        "\n",
        "- Forma Direta:\n",
        "  Como o nome sugere, a equação de diferenças é implementada exatamente como está, utilizando blocos de **atraso**, **multiplicadores** e **somadores**.\n",
        "\n",
        "  Para fins de ilustração, considere $M = N = 4$. A equação de diferenças associada é:\n",
        "\n",
        "  $$\n",
        "  y(n) = b_0 x(n) + b_1 x(n-1) + b_2 x(n-2) + b_3 x(n-3) + b_4 x(n-4) \\\\\n",
        "  \\quad - a_1 y(n-1) - a_2 y(n-2) - a_3 y(n-3) - a_4 y(n-4)\n",
        "  $$\n",
        "\n",
        "  Essa equação pode ser implementada diretamente em duas formas principais:\n",
        "\n",
        "  - **Forma Direta I**: Implementa separadamente as partes do numerador e denominador da função racional $H(z)$ com uma conexão em cascata entre elas. O numerador é realizado por uma linha de atraso com ramificações (tapped delay line), e o denominador por uma linha de atraso com realimentação. Como resultado, essa forma utiliza **duas linhas de atraso separadas**, totalizando **8 elementos de atraso** para $N=4$.\n",
        "\n",
        "  - **Forma Direta II**: Otimiza a estrutura anterior **reduzindo o número de elementos de atraso**. Isso é feito ao unir as duas linhas de atraso em uma só, conectadas por um ramo de ganho unitário. A estrutura resultante é chamada de **forma canônica**, pois usa o **número mínimo de atrasos** necessário para implementar o sistema. Embora ambas as formas sejam **equivalentes do ponto de vista entrada-saída**, os sinais internos são diferentes.\n",
        "\n",
        "- Forma em Cascata:\n",
        "  Na **forma em cascata**, a função de sistema $H(z)$ é expressa como um **produto de seções de segunda ordem** com coeficientes reais. Esse processo é feito por meio da **fatoração dos polinômios do numerador e denominador** em suas raízes, agrupando pares complexos conjugados ou dois polos reais em **polinômios de 2ª ordem**.\n",
        "\n",
        "  Assumindo que $N$ é par, podemos escrever:\n",
        "\n",
        "  $$\n",
        "  H(z) = \\frac{b_0 + b_1 z^{-1} + \\cdots + b_N z^{-N}}{1 + a_1 z^{-1} + \\cdots + a_N z^{-N}} = b_0 \\prod_{k=1}^{K} \\frac{1 + B_{k,1} z^{-1} + B_{k,2} z^{-2}}{1 + A_{k,1} z^{-1} + A_{k,2} z^{-2}}\n",
        "  $$\n",
        "\n",
        "  Onde:\n",
        "\n",
        "  - $K = N/2$\n",
        "  - $B_{k,1}, B_{k,2}, A_{k,1}, A_{k,2}$ são coeficientes reais correspondentes às seções de segunda ordem\n",
        "  - Cada **seção biquadrática** $H_k(z)$ (ou *biquad*) é dada por:\n",
        "\n",
        "  $$\n",
        "  H_k(z) = \\frac{Y_{k+1}(z)}{Y_k(z)} = \\frac{1 + B_{k,1} z^{-1} + B_{k,2} z^{-2}}{1 + A_{k,1} z^{-1} + A_{k,2} z^{-2}} \\quad \\text{para } k = 1, \\dots, K\n",
        "  $$\n",
        "\n",
        "  - A entrada da seção $k$ é a saída da seção $k-1$:  \n",
        "    $Y_1(z) = b_0 X(z)$  \n",
        "    $Y_{K+1}(z) = Y(z)$\n",
        "\n",
        "  Cada biquad pode ser implementado usando a **forma direta II**. A estrutura final do filtro é uma **cascata de seções biquadráticas**.\n",
        "\n",
        "  Essa abordagem oferece diversas vantagens práticas, como:\n",
        "\n",
        "  - **Maior estabilidade numérica**, especialmente em ambientes de precisão finita\n",
        "  - **Redução dos efeitos de quantização**\n",
        "  - **Facilidade de ajuste** de cada seção individual\n",
        "\n",
        "- Forma Paralela:\n",
        "  Na **forma paralela**, a função de sistema $H(z)$ é decomposta em uma **soma de seções racionais de ordem menor**, geralmente **de 1ª e 2ª ordem**. Essa abordagem é baseada na técnica de **decomposição em frações parciais**, que representa a função racional como uma soma de termos simples.\n",
        "\n",
        "  A função $H(z)$, definida como:\n",
        "\n",
        "  $$\n",
        "  H(z) = \\frac{b_0 + b_1 z^{-1} + \\cdots + b_N z^{-N}}{1 + a_1 z^{-1} + \\cdots + a_N z^{-N}}\n",
        "  $$\n",
        "\n",
        "  pode ser expressa como:\n",
        "\n",
        "  $$\n",
        "  H(z) = H_1(z) + H_2(z) + \\cdots + H_K(z) + H_{z}(z)\n",
        "  $$\n",
        "\n",
        "  Onde:\n",
        "\n",
        "  - Cada $H_k(z)$ é uma **seção de segunda ordem**, da forma:\n",
        "\n",
        "  $$\n",
        "  H_k(z) = \\frac{B_{k,1} z^{-1} + B_{k,2} z^{-2}}{1 + A_{k,1} z^{-1} + A_{k,2} z^{-2}}\n",
        "  $$\n",
        "\n",
        "  - $H_z(z)$ é um **termo direto**, representando a parte que não participa da realimentação (feedforward direto).\n",
        "\n",
        "  Essa decomposição é útil porque:\n",
        "\n",
        "  - **Permite implementação independente** de cada termo, o que pode facilitar a paralelização em hardware ou software.\n",
        "  - Oferece **maior controle numérico**, sendo útil em contextos onde a precisão é crítica.\n",
        "  - Pode ser mais eficiente quando poucos polos dominam o comportamento do sistema.\n",
        "\n",
        "  A forma paralela é especialmente vantajosa para filtros IIR com **raízes bem separadas**, onde os termos individuais podem ser tratados como sistemas independentes de baixa ordem.\n"
      ],
      "metadata": {
        "id": "zIBJaPjUNLVD"
      }
    },
    {
      "cell_type": "markdown",
      "source": [
        "## Exemplo 6.1"
      ],
      "metadata": {
        "id": "4WS3sCk-M47Y"
      }
    },
    {
      "cell_type": "code",
      "source": [
        "import numpy as np\n",
        "from scipy.signal import tf2sos, sosfreqz\n",
        "from numpy.polynomial.polynomial import Polynomial\n",
        "\n",
        "# Coeficientes da equação (direta)\n",
        "b = np.array([1, -3, 11, -27, 18])\n",
        "a = np.array([16, 12, 2, -4, -1])\n",
        "\n",
        "# Normaliza os coeficientes\n",
        "b0 = b[0]\n",
        "a0 = a[0]\n",
        "b = b / b0\n",
        "a = a / a0\n",
        "gain = b0 / a0  # equivalente ao b0 na função do livro\n",
        "\n",
        "# Igualando os comprimentos dos vetores\n",
        "N = max(len(b), len(a))\n",
        "b = np.pad(b, (0, N - len(b)))\n",
        "a = np.pad(a, (0, N - len(a)))\n",
        "\n",
        "# Converte para forma cascata (SOS)\n",
        "sos = tf2sos(b, a)\n",
        "\n",
        "# Extrai matrizes B e A dos biquads\n",
        "B = sos[:, :3]\n",
        "A = sos[:, 3:]\n",
        "\n",
        "# Mostra resultados no estilo do livro\n",
        "print(f\"b0 (ganho global): {gain}\")\n",
        "print(\"\\nBiquads Numerador (B):\")\n",
        "print(B)\n",
        "print(\"\\nBiquads Denominador (A):\")\n",
        "print(A)\n"
      ],
      "metadata": {
        "colab": {
          "base_uri": "https://localhost:8080/"
        },
        "id": "WHa6WITPNQW-",
        "outputId": "9afa9aad-9b83-4724-ccb4-8dd0bbf5b98f"
      },
      "execution_count": 2,
      "outputs": [
        {
          "output_type": "stream",
          "name": "stdout",
          "text": [
            "b0 (ganho global): 0.0625\n",
            "\n",
            "Biquads Numerador (B):\n",
            "[[ 1.00000000e+00  9.99200722e-16  9.00000000e+00]\n",
            " [ 1.00000000e+00 -3.00000000e+00  2.00000000e+00]]\n",
            "\n",
            "Biquads Denominador (A):\n",
            "[[ 1.    -0.25  -0.125]\n",
            " [ 1.     1.     0.5  ]]\n"
          ]
        }
      ]
    },
    {
      "cell_type": "markdown",
      "source": [
        "## Exemplo 6.2"
      ],
      "metadata": {
        "id": "is4jroX3M8uG"
      }
    },
    {
      "cell_type": "code",
      "source": [
        "from scipy.signal import residuez\n",
        "\n",
        "# Coeficientes da forma direta\n",
        "b = np.array([1, -3, 11, -27, 18], dtype=np.float64)\n",
        "a = np.array([16, 12, 2, -4, -1], dtype=np.float64)\n",
        "\n",
        "# Decomposição via Resíduos Parciais\n",
        "r, p, C = residuez(b, a)  # r = resíduos, p = polos, C = parte polinomial (caso M ≥ N)\n",
        "\n",
        "# Ordena os polos (cplxpair) — por parte real depois imaginária\n",
        "def cplxpair(z):\n",
        "    z = np.array(z)\n",
        "    return z[np.lexsort((np.imag(z), np.real(z)))]\n",
        "\n",
        "p_sorted = cplxpair(p)\n",
        "r_sorted = r[np.argsort(np.lexsort((np.imag(p), np.real(p))))]\n",
        "\n",
        "# Agrupa resíduos e polos em pares para obter coeficientes de segunda ordem\n",
        "B = []\n",
        "A = []\n",
        "\n",
        "i = 0\n",
        "while i < len(p_sorted):\n",
        "    if i+1 < len(p_sorted) and np.iscomplex(p_sorted[i]):\n",
        "        # Par de complexos conjugados → biquad\n",
        "        pk = [p_sorted[i], p_sorted[i+1]]\n",
        "        rk = [r_sorted[i], r_sorted[i+1]]\n",
        "        # Constrói os coeficientes do denominador: (1 - p1 z^-1)(1 - p2 z^-1) = 1 - (p1+p2)z^-1 + p1p2 z^-2\n",
        "        a_poly = np.array([1, -(pk[0] + pk[1]), pk[0] * pk[1]]).real\n",
        "        # Constrói o numerador: r1/(1-p1 z^-1) + r2/(1-p2 z^-1) = (r1(1-p2 z^-1) + r2(1-p1 z^-1)) / ((1-p1 z^-1)(1-p2 z^-1))\n",
        "        # Numerador: (r1+r2) + (-r1*p2 - r2*p1)z^-1\n",
        "        b_poly = np.array([rk[0] + rk[1], -rk[0]*pk[1] - rk[1]*pk[0]]).real\n",
        "        B.append(b_poly)\n",
        "        A.append(a_poly)\n",
        "        i += 2\n",
        "    else:\n",
        "        # Polo real → filtro de 1ª ordem\n",
        "        pk = [p_sorted[i]]\n",
        "        rk = [r_sorted[i]]\n",
        "        # Denominador: 1 - p1 z^-1\n",
        "        a_poly = np.array([1, -pk[0]]).real\n",
        "        # Numerador: r1\n",
        "        b_poly = np.array([rk[0]]).real\n",
        "        B.append(b_poly)\n",
        "        A.append(a_poly)\n",
        "        i += 1\n",
        "\n",
        "# Lidar com a parte polinomial (C)\n",
        "if len(C) > 0:\n",
        "    # C é o ganho direto ou um termo polinomial em z. Para H(z) = sum(Hi(z)) + C,\n",
        "    # C é simplesmente adicionado em paralelo. Se C é um vetor, representa\n",
        "    # um termo polinomial em z^-1.\n",
        "    # Neste caso, residuez retorna C como um array para termos z^0, z^-1, ...\n",
        "    # Se C é apenas um escalar, representa um ganho direto.\n",
        "    # Se M>=N, C pode ter mais de um termo. Vamos adicionar como termos de 1ª ordem (ou ordem 0 se for só C[0])\n",
        "    for j in range(len(C)):\n",
        "        if abs(C[j]) > 1e-9: # Adicionar apenas se o coeficiente não for desprezível\n",
        "             # Considerar C[0] como ganho direto\n",
        "             # Se len(C) > 1, os termos C[j]z^(-j) são termos de feedforward direto\n",
        "             # que podem ser representados como seções de ordem 0 ou 1\n",
        "             if j == 0: # Termo constante\n",
        "                 B.append(np.array([C[j]]).real)\n",
        "                 A.append(np.array([1]).real)\n",
        "             else: # Termo z^(-j)\n",
        "                 # Este é um feedforward direto. Para a forma paralela,\n",
        "                 # podemos tratá-lo como um termo com denominador 1\n",
        "                 b_c = np.zeros(j+1)\n",
        "                 b_c[j] = C[j].real\n",
        "                 B.append(b_c)\n",
        "                 A.append(np.array([1]).real)\n",
        "\n",
        "\n",
        "# Imprime os coeficientes B e A das seções em paralelo\n",
        "print(\"Coeficientes Numerador (B) das Seções Paralelas:\")\n",
        "for b_sec in B:\n",
        "    print(b_sec)\n",
        "\n",
        "print(\"\\nCoeficientes Denominador (A) das Seções Paralelas:\")\n",
        "for a_sec in A:\n",
        "    print(a_sec)\n",
        "\n",
        "# O termo C (se existir e não for zero) é um ganho direto que é somado à saída.\n",
        "# Para este exemplo específico, M=N, então C deve ser um escalar representando o ganho direto.\n",
        "# De acordo com a documentação do residuez, C é o termo direto, que pode ser\n",
        "# um array de coeficientes de z^0, z^-1, ... se M>=N.\n",
        "# Vamos verificar o valor de C neste caso\n",
        "print(\"\\nTermo Direto (C):\")\n",
        "print(C)"
      ],
      "metadata": {
        "colab": {
          "base_uri": "https://localhost:8080/"
        },
        "id": "9vZ4E3wMK_nC",
        "outputId": "05da913e-0975-4473-b6dd-4e7c4ecd4d6d"
      },
      "execution_count": 4,
      "outputs": [
        {
          "output_type": "stream",
          "name": "stdout",
          "text": [
            "Coeficientes Numerador (B) das Seções Paralelas:\n",
            "[-10.05  -6.1 ]\n",
            "[0.925]\n",
            "[27.1875]\n",
            "[-18.]\n",
            "\n",
            "Coeficientes Denominador (A) das Seções Paralelas:\n",
            "[1.  1.  0.5]\n",
            "[1.   0.25]\n",
            "[ 1.  -0.5]\n",
            "[1]\n",
            "\n",
            "Termo Direto (C):\n",
            "[-18.]\n"
          ]
        }
      ]
    },
    {
      "cell_type": "code",
      "source": [],
      "metadata": {
        "id": "IAM9yy-UMi2u"
      },
      "execution_count": null,
      "outputs": []
    },
    {
      "cell_type": "markdown",
      "metadata": {
        "id": "99055c91"
      },
      "source": [
        "## 6.3 Estruturas de Filtros FIR\n",
        "\n",
        "Os filtros FIR (Finite Impulse Response) são filtros com resposta ao impulso de duração finita, definidos por um sistema da forma:\n",
        "\n",
        "$$ H(z) = b_0 + b_1 z^{-1} + \\cdots + b_{M-1} z^{-(M-1)} = \\sum_{n=0}^{M-1} b_n z^{-n} $$\n",
        "\n",
        "A resposta ao impulso associada é:\n",
        "\n",
        "$$ h(n) = \\begin{cases} b_n, & 0 \\leq n \\leq M-1 \\\\ 0, & \\text{caso contrário} \\end{cases} $$\n",
        "\n",
        "E a equação de diferenças que implementa esse filtro é:\n",
        "\n",
        "$$ y(n) = b_0 x(n) + b_1 x(n-1) + \\cdots + b_{M-1} x(n-M+1) $$\n",
        "\n",
        "Essa equação representa uma convolução linear de suporte finito entre a entrada $x(n)$ e a resposta ao impulso $h(n)$.\n",
        "\n",
        "### Características dos Filtros FIR:\n",
        "\n",
        "*   **Ordem:** $M-1$\n",
        "*   **Comprimento:** $M$ (número de coeficientes)\n",
        "*   **Estabilidade garantida:** pois não há polos dentro ou fora do círculo unitário (exceto na origem).\n",
        "*   Permitem **fase linear** (ou seja, ausência de distorção de fase), que é uma propriedade desejável em muitas aplicações, como processamento de áudio, imagens ou comunicações digitais.\n",
        "\n",
        "### Estruturas de Implementação FIR\n",
        "\n",
        "Existem quatro formas clássicas para implementar um filtro FIR:\n",
        "\n",
        "1.  **Forma Direta (Direct Form)**\n",
        "    Implementação direta da equação de diferenças. Simples e direta, mas sem otimizações.\n",
        "\n",
        "2.  **Forma em Cascata (Cascade Form)**\n",
        "    O sistema $H(z)$ é fatorado em termos de fatores de segunda ordem (ou primeira ordem, se necessário), implementados em série. Melhora a robustez numérica em alguns casos.\n",
        "\n",
        "3.  **Forma de Fase Linear (Linear-Phase Form)**\n",
        "    Explora a simetria da resposta ao impulso em filtros de fase linear (simétrica ou anti-simétrica) para reduzir o número de multiplicações pela metade, aumentando a eficiência computacional.\n",
        "\n",
        "4.  **Forma Paralela (Parallel Form)**\n",
        "    Embora menos comum para filtros FIR do que para IIR, a forma paralela decompõe $H(z)$ em uma soma de sub-sistemas de ordem menor. Cada sub-sistema pode ser implementado independentemente e suas saídas somadas."
      ]
    },
    {
      "cell_type": "markdown",
      "metadata": {
        "id": "f0e2d9c3"
      },
      "source": [
        "## EXEMPLO 6.4 – Filtro FIR: Formas Direta, de Fase Linear e em Cascata\n",
        "\n",
        "Considere o filtro FIR descrito pela função de sistema:\n",
        "\n",
        "$$ H(z) = 1 + 16,0625 z^{-4} + z^{-8} $$\n",
        "\n",
        "a) **Forma Direta**\n",
        "A equação de diferenças associada é:\n",
        "\n",
        "$$ y(n) = x(n) + 16,0625 \\cdot x(n-4) + x(n-8) $$\n",
        "\n",
        "Essa forma implementa diretamente a equação de convolução. Ela utiliza 8 registros de atraso, com multiplicações apenas nos coeficientes não-nulos.\n",
        "\n",
        "b) **Forma de Fase Linear**\n",
        "Devido à simetria da resposta ao impulso (coeficientes simétricos em torno de $n=4$), podemos reescrever a equação como:\n",
        "\n",
        "$$ y(n) = [x(n) + x(n-8)] + 16,0625 \\cdot x(n-4) $$\n",
        "\n",
        "A estrutura de fase linear utiliza somas simétricas para explorar essa propriedade, reduzindo o número de multiplicações.\n",
        "\n",
        "c) **Forma em Cascata**\n",
        "Fatorando $H(z)$, obtemos uma decomposição em fatores de 2ª ordem:\n",
        "\n",
        "$$ H(z) = (z^{-4} + 1)^2 $$\n",
        "\n",
        "A forma em cascata representa esses fatores como blocos de filtro conectados em série. Essa abordagem pode ser mais eficiente numericamente e modular."
      ]
    },
    {
      "cell_type": "code",
      "source": [
        "import numpy as np\n",
        "import matplotlib.pyplot as plt\n",
        "from scipy.signal import freqz, tf2zpk\n",
        "\n",
        "# Coeficientes do filtro FIR\n",
        "b = [1, 0, 0, 0, 16.0625, 0, 0, 0, 1]  # x(n), x(n-4), x(n-8)\n",
        "a = [1]  # Filtro FIR: denominador é 1\n",
        "\n",
        "# Resposta em frequência\n",
        "w, h = freqz(b, a, worN=1024)\n",
        "plt.figure(figsize=(10, 4))\n",
        "plt.plot(w / np.pi, 20 * np.log10(np.abs(h)), label=\"|H(e^jω)| [dB]\")\n",
        "plt.title(\"Resposta em Frequência do Filtro FIR (Exemplo 6.4)\")\n",
        "plt.xlabel(\"Frequência Normalizada (×π rad/amostra)\")\n",
        "plt.ylabel(\"Magnitude (dB)\")\n",
        "plt.grid(True)\n",
        "plt.tight_layout()\n",
        "plt.show()\n",
        "\n",
        "# Zeros e polos (para cascata)\n",
        "z, p, k = tf2zpk(b, a)\n",
        "plt.figure(figsize=(5, 5))\n",
        "plt.plot(np.real(z), np.imag(z), 'o', label='Zeros')\n",
        "plt.axhline(0, color='black')\n",
        "plt.axvline(0, color='black')\n",
        "plt.title(\"Zeros no Plano-Z (Forma em Cascata)\")\n",
        "plt.xlabel(\"Parte Real\")\n",
        "plt.ylabel(\"Parte Imaginária\")\n",
        "plt.grid(True)\n",
        "plt.axis('equal')\n",
        "plt.legend()\n",
        "plt.show()\n"
      ],
      "metadata": {
        "colab": {
          "base_uri": "https://localhost:8080/",
          "height": 877
        },
        "id": "HFqDFZAbPDqP",
        "outputId": "854144f8-231c-440a-adf4-1354acd8149e"
      },
      "execution_count": 5,
      "outputs": [
        {
          "output_type": "display_data",
          "data": {
            "text/plain": [
              "<Figure size 1000x400 with 1 Axes>"
            ],
            "image/png": "[encoded data removed]"
          },
          "metadata": {}
        },
        {
          "output_type": "display_data",
          "data": {
            "text/plain": [
              "<Figure size 500x500 with 1 Axes>"
            ],
            "image/png": "[encoded data removed]"
          },
          "metadata": {}
        }
      ]
    },
    {
      "cell_type": "code",
      "source": [],
      "metadata": {
        "id": "sDTm95PRPFF9"
      },
      "execution_count": null,
      "outputs": []
    },
    {
      "cell_type": "markdown",
      "metadata": {
        "id": "8f8cdc4f"
      },
      "source": [
        "## EXEMPLO 6.6 – Forma de Amostragem em Frequência\n",
        "\n",
        "Seja o filtro FIR com resposta ao impulso:\n",
        "\n",
        "$$ h(n) = \\frac{1}{9} \\cdot \\{1, 2, 3, 2, 1\\} $$\n",
        "\n",
        "Este filtro possui comprimento $M=5$, o que significa que ele é de ordem 4. Desejamos representar o filtro na forma de amostragem em frequência, baseada na DFT dos coeficientes $h(n)$.\n",
        "\n",
        "A forma de amostragem em frequência reconstrói a função de sistema a partir de pares de seções paralelas de 2ª ordem (quando $M$ é ímpar) ou pares simétricos (quando $M$ é par), com base na DFT dos coeficientes."
      ]
    },
    {
      "cell_type": "code",
      "source": [
        "import numpy as np\n",
        "import matplotlib.pyplot as plt\n",
        "\n",
        "# Resposta ao impulso\n",
        "h = np.array([1, 2, 3, 2, 1]) / 9\n",
        "M = len(h)\n",
        "\n",
        "# DFT da resposta ao impulso\n",
        "H = np.fft.fft(h, M)\n",
        "magH = np.abs(H)\n",
        "phaH = np.angle(H)\n",
        "\n",
        "# Exibir resultados (equivalente ao script MATLAB)\n",
        "print(\"DFT H[k]:\")\n",
        "for k in range(M):\n",
        "    print(f\"H[{k}] = {H[k]:.4f} (|H| = {magH[k]:.4f}, ∠H = {phaH[k]:.4f} rad)\")\n",
        "\n",
        "# Estrutura baseada na função dir2fs (aproximação)\n",
        "L = (M - 1) // 2  # M ímpar\n",
        "k = np.arange(1, L + 1)\n",
        "\n",
        "# Coeficientes do denominador A (seções de 2ª ordem)\n",
        "A = np.ones((L, 3))\n",
        "A[:, 1] = -2 * np.cos(2 * np.pi * k / M)\n",
        "\n",
        "# Coeficientes do numerador B\n",
        "B = np.zeros((L, 2))\n",
        "B[:, 0] = np.cos(phaH[1:L + 1])\n",
        "B[:, 1] = -np.cos(phaH[1:L + 1] - 2 * np.pi * k / M)\n",
        "\n",
        "# Coeficientes de ganho C\n",
        "C = np.concatenate(([2 * magH[1]], [2 * magH[2]], [np.real(H[0])]))\n",
        "\n",
        "# Resultados\n",
        "print(\"\\nCoeficientes C (ganhos):\")\n",
        "print(np.round(C, 4))\n",
        "\n",
        "print(\"\\nCoeficientes B (numeradores):\")\n",
        "print(np.round(B, 4))\n",
        "\n",
        "print(\"\\nCoeficientes A (denominadores):\")\n",
        "print(np.round(A, 4))\n"
      ],
      "metadata": {
        "colab": {
          "base_uri": "https://localhost:8080/"
        },
        "id": "XPyUFFqYQGB9",
        "outputId": "cdb339a4-fc23-4ab8-a0b7-b31e142ae359"
      },
      "execution_count": 6,
      "outputs": [
        {
          "output_type": "stream",
          "name": "stdout",
          "text": [
            "DFT H[k]:\n",
            "H[0] = 1.0000+0.0000j (|H| = 1.0000, ∠H = 0.0000 rad)\n",
            "H[1] = -0.2353-0.1710j (|H| = 0.2909, ∠H = -2.5133 rad)\n",
            "H[2] = 0.0131+0.0404j (|H| = 0.0424, ∠H = 1.2566 rad)\n",
            "H[3] = 0.0131-0.0404j (|H| = 0.0424, ∠H = -1.2566 rad)\n",
            "H[4] = -0.2353+0.1710j (|H| = 0.2909, ∠H = 2.5133 rad)\n",
            "\n",
            "Coeficientes C (ganhos):\n",
            "[0.5818 0.0849 1.    ]\n",
            "\n",
            "Coeficientes B (numeradores):\n",
            "[[-0.809  0.809]\n",
            " [ 0.309 -0.309]]\n",
            "\n",
            "Coeficientes A (denominadores):\n",
            "[[ 1.    -0.618  1.   ]\n",
            " [ 1.     1.618  1.   ]]\n"
          ]
        }
      ]
    },
    {
      "cell_type": "code",
      "source": [],
      "metadata": {
        "id": "pYp6PA1hQHPT"
      },
      "execution_count": null,
      "outputs": []
    },
    {
      "cell_type": "markdown",
      "source": [
        "### 📘 6.4 – Estruturas de Filtros em Malha (*Lattice Filter Structures*)\n",
        "\n",
        "A estrutura de filtro em malha, conhecida como **lattice filter**, é amplamente utilizada em aplicações de **processamento digital de fala** e na implementação de **filtros adaptativos**. Seu uso é preferido em várias situações por apresentar vantagens estruturais e numéricas, especialmente quando há necessidade de modelagem eficiente e estável de sistemas dinâmicos.\n",
        "\n",
        "---\n",
        "\n",
        "#### 🔧 Vantagens do Filtro em Malha\n",
        "\n",
        "- **Estabilidade inerente**: estruturas em malha tendem a ser mais robustas frente a efeitos de quantização e erros numéricos, o que é desejável em sistemas em tempo real.\n",
        "- **Modularidade**: os filtros em malha são compostos por estágios simples, permitindo fácil expansão e análise.\n",
        "- **Aplicações em fala**: como em análise e síntese de voz, onde apenas um pequeno número de coeficientes pode representar uma grande quantidade de **formantes** (picos de ressonância), facilitando implementações em tempo real.\n",
        "\n",
        "---\n",
        "\n",
        "#### 🔀 Tipos de Estruturas\n",
        "\n",
        "- **Lattice All-Zero (FIR)**  \n",
        "  É a representação FIR da estrutura em malha, também chamada de **lattice filter**.  \n",
        "  Ela possui somente **zeros** e é usada em casos onde a resposta ao impulso é de duração finita.\n",
        "\n",
        "- **Lattice Ladder (IIR)**  \n",
        "  Representa a forma **IIR** da estrutura, também conhecida como **lattice ladder**.  \n",
        "  Esta forma contém **zeros e polos**, permitindo uma modelagem mais completa e flexível, especialmente em sinais com respostas impulsivas de duração infinita.\n",
        "\n",
        "---\n",
        "\n",
        "#### 📌 Resumo\n",
        "\n",
        "| Tipo de Estrutura | Tipo de Filtro | Característica Principal                  |\n",
        "|-------------------|----------------|-------------------------------------------|\n",
        "| Lattice (All-Zero) | FIR            | Estrutura com resposta ao impulso finita  |\n",
        "| Lattice Ladder     | IIR            | Estrutura com resposta ao impulso infinita|\n",
        "\n",
        "---\n"
      ],
      "metadata": {
        "id": "WO99lHwBV0zD"
      }
    },
    {
      "cell_type": "markdown",
      "source": [
        "### ✅ EXEMPLO 6.5 – Conversão para Estrutura em Malha (Lattice Filter)\n",
        "\n",
        "Considere o filtro FIR descrito pela equação de diferenças:\n",
        "\n",
        "$$\n",
        "y(n) = 2x(n) + \\frac{13}{12}x(n-1) + \\frac{5}{4}x(n-2) + \\frac{2}{3}x(n-3)\n",
        "$$\n",
        "\n",
        "Nosso objetivo é converter esse filtro para a **estrutura em malha all-zero**, ou seja, obter os **coeficientes de reflexão \\( K \\)** do filtro lattice.\n"
      ],
      "metadata": {
        "id": "zCeA0J3JOjoP"
      }
    },
    {
      "cell_type": "code",
      "source": [
        "import numpy as np\n",
        "\n",
        "def dir2latc(b):\n",
        "    \"\"\"\n",
        "    Conversão de Forma Direta FIR para Forma Lattice All-Zero\n",
        "    K = dir2latc(b)\n",
        "    K: coeficientes de reflexão (estrutura lattice)\n",
        "    b: coeficientes FIR da forma direta (resposta ao impulso)\n",
        "    \"\"\"\n",
        "    M = len(b)\n",
        "    K = np.zeros(M)\n",
        "    b1 = b[0]\n",
        "\n",
        "    if b1 == 0:\n",
        "        raise ValueError(\"b[0] é igual a zero\")\n",
        "\n",
        "    K[0] = b1\n",
        "    A = b / b1\n",
        "\n",
        "    for m in range(M-1, 0, -1):\n",
        "        K[m] = A[m]\n",
        "        J = np.flip(A)\n",
        "        A = (A - K[m] * J) / (1 - K[m] * K[m])\n",
        "        A = A[:m]\n",
        "\n",
        "    return K\n",
        "\n",
        "# Coeficientes do exemplo do livro\n",
        "b = np.array([2, 13/12, 5/4, 2/3])\n",
        "K = dir2latc(b)\n",
        "print(\"Coeficientes da estrutura lattice (K):\", K)\n"
      ],
      "metadata": {
        "colab": {
          "base_uri": "https://localhost:8080/"
        },
        "id": "WrvdC4E6OhMs",
        "outputId": "9b74570c-dbba-4c63-90d7-727ba6abc01e"
      },
      "execution_count": 1,
      "outputs": [
        {
          "output_type": "stream",
          "name": "stdout",
          "text": [
            "Coeficientes da estrutura lattice (K): [2.         0.25       0.5        0.33333333]\n"
          ]
        }
      ]
    },
    {
      "cell_type": "markdown",
      "source": [
        "## Estrutura Lattice-Ladder\n",
        "\n",
        "A estrutura *lattice-ladder* é uma representação comum para filtros IIR (Infinite Impulse Response), sendo útil principalmente em aplicações de processamento de fala e filtros adaptativos.\n",
        "\n",
        "A forma *lattice* representa a parte recursiva (*denominador*) do filtro, enquanto a parte *ladder* representa a parte não recursiva (*numerador*). A função de sistema de um filtro IIR é dada por:\n",
        "\n",
        "$$\n",
        "H(z) = \\frac{b_0 + b_1 z^{-1} + \\cdots + b_M z^{-M}}{a_0 + a_1 z^{-1} + \\cdots + a_N z^{-N}}\n",
        "$$\n",
        "\n",
        "A conversão para a estrutura *lattice-ladder* envolve dois vetores de coeficientes:\n",
        "\n",
        "- $K = [K_1, K_2, \\ldots, K_{N-1}]$: coeficientes de reflexão da estrutura *lattice*\n",
        "- $C = [C_0, C_1, \\ldots, C_N]$: coeficientes da estrutura *ladder*\n",
        "\n",
        "Esses coeficientes podem ser calculados a partir dos coeficientes $a$ (denominador) e $b$ (numerador) do filtro IIR.\n",
        "\n",
        "---\n",
        "### **Exemplo 6.8**\n",
        "\n",
        "Considere o filtro IIR:\n",
        "\n",
        "$$\n",
        "H(z) = \\frac{1 + 2z^{-1} + 2z^{-2} + z^{-3}}{1 + \\frac{13}{24}z^{-1} + \\frac{5}{8}z^{-2} + \\frac{1}{3}z^{-3}}\n",
        "$$\n",
        "\n",
        "Seus coeficientes são:\n",
        "\n",
        "- $b = [1, 2, 2, 1]$\n",
        "- $a = [1, \\frac{13}{24}, \\frac{5}{8}, \\frac{1}{3}]$\n",
        "\n",
        "A estrutura *lattice-ladder* pode ser obtida a partir desses coeficientes.\n"
      ],
      "metadata": {
        "id": "pUkE17_rQebD"
      }
    },
    {
      "cell_type": "code",
      "source": [
        "import numpy as np\n",
        "\n",
        "def dir2ladr(b, a):\n",
        "    \"\"\"\n",
        "    Conversão de forma direta para estrutura lattice-ladder (IIR)\n",
        "    b: coeficientes do numerador\n",
        "    a: coeficientes do denominador\n",
        "    Retorna:\n",
        "        K: coeficientes da parte lattice\n",
        "        C: coeficientes da parte ladder\n",
        "    \"\"\"\n",
        "    b = np.array(b, dtype=float)\n",
        "    a = np.array(a, dtype=float)\n",
        "    a = a / a[0]\n",
        "    b = b / a[0]\n",
        "\n",
        "    M = len(b)\n",
        "    N = len(a)\n",
        "\n",
        "    if M > N:\n",
        "        raise ValueError(\"O comprimento de b deve ser menor ou igual ao de a.\")\n",
        "\n",
        "    b = np.concatenate([b, np.zeros(N - M)])\n",
        "    K = np.zeros(N - 1)\n",
        "    C = b.copy()\n",
        "    A = np.zeros((N - 1, N - 1))\n",
        "\n",
        "    for m in range(N - 1, 0, -1):\n",
        "        A[m - 1, :m] = -a[1:m + 1] * C[m]\n",
        "        K[m - 1] = a[m]\n",
        "        J = a[::-1]\n",
        "        a = (a - K[m - 1] * J) / (1 - K[m - 1] ** 2)\n",
        "        a = a[:m]\n",
        "        if m < N - 1:\n",
        "            C[m - 1] = b[m - 1] + np.sum(np.diag(A[m:N - 1, :N - m]))\n",
        "        else:\n",
        "            C[m - 1] = b[m - 1]\n",
        "\n",
        "    return K, C\n",
        "\n",
        "# Exemplo do livro\n",
        "b = [1, 2, 2, 1]\n",
        "a = [1, 13/24, 5/8, 1/3]\n",
        "\n",
        "K, C = dir2ladr(b, a)\n",
        "\n",
        "print(\"Coeficientes K (lattice):\")\n",
        "print(K)\n",
        "print(\"\\nCoeficientes C (ladder):\")\n",
        "print(C)\n"
      ],
      "metadata": {
        "colab": {
          "base_uri": "https://localhost:8080/"
        },
        "id": "YhFtlxBPOvf8",
        "outputId": "56109ebf-4de4-40c4-c459-8eb0ad27a18b"
      },
      "execution_count": 2,
      "outputs": [
        {
          "output_type": "stream",
          "name": "stdout",
          "text": [
            "Coeficientes K (lattice):\n",
            "[0.25       0.5        0.33333333]\n",
            "\n",
            "Coeficientes C (ladder):\n",
            "[-0.375       1.45833333  2.          1.        ]\n"
          ]
        }
      ]
    },
    {
      "cell_type": "code",
      "source": [],
      "metadata": {
        "id": "D_iodoLYQlp1"
      },
      "execution_count": null,
      "outputs": []
    },
    {
      "cell_type": "markdown",
      "metadata": {
        "id": "15c01860"
      },
      "source": [
        "### 6.5 Overview of Finite-Precision Numerical Effects\n",
        "\n",
        "Até este ponto do livro, consideramos projetos de filtros digitais onde tanto os coeficientes quanto as operações (como adições e multiplicações) eram expressos usando números de precisão infinita. No entanto, quando implementamos sistemas de tempo discreto em hardware ou software, todos os parâmetros e operações aritméticas devem ser representados usando números de precisão finita, e seus efeitos são inevitáveis.\n",
        "\n",
        "Vamos analisar um filtro digital implementado na estrutura Direct-Form II (Figura 6.24a do livro). Quando usamos representação de precisão finita, três aspectos principais afetam a qualidade da saída:\n",
        "\n",
        "1.  **Quantização dos coeficientes do filtro**: Os coeficientes originais {aₖ, bₖ} são convertidos para suas representações de palavra finita {âₖ, b̂ₖ}\n",
        "2.  **Quantização da sequência de entrada**: x(n) → x̂(n)\n",
        "3.  **Operações aritméticas internas**: Todas as operações são convertidas para suas melhores representações possíveis dentro da precisão finita\n",
        "\n",
        "Como resultado, a saída y(n) também se torna um valor quantizado ŷ(n), e obtemos uma nova realização do filtro Ĥ(z). Nosso objetivo é que este novo filtro Ĥ(z) e sua saída ŷ(n) sejam o mais próximo possível do filtro original H(z) e da saída original y(n).\n",
        "\n",
        "### Desafios na Análise\n",
        "A operação de quantização é não-linear, o que torna a análise completa considerando todos os três efeitos simultaneamente extremamente complexa. Por isso, adotamos uma abordagem mais prática:\n",
        "\n",
        "$$ \\text{Análise completa} \\rightarrow \\text{Difícil} $$\n",
        "$$ \\text{Análise isolada de cada efeito} \\rightarrow \\text{Interpretável} $$\n"
      ]
    },
    {
      "cell_type": "code",
      "source": [],
      "metadata": {
        "id": "fJje9N_TVvn2"
      },
      "execution_count": null,
      "outputs": []
    },
    {
      "cell_type": "markdown",
      "source": [
        "## 6.6 Representação de Números em Sistemas Digitais\n",
        "\n",
        "## Fundamentos da Representação Numérica\n",
        "Em computadores, números (reais, complexos, inteiros ou fracionários) são representados usando dígitos binários (bits - 0 ou 1). A aritmética de palavra finita pode ser implementada de duas formas principais:\n",
        "\n",
        "1. **Aritmética de Ponto Fixo**  \n",
        "   - Mais simples de implementar  \n",
        "   - Alcance dinâmico fixo (limitações com números muito grandes ou muito pequenos)  \n",
        "   - Precisão absoluta constante  \n",
        "\n",
        "2. **Aritmética de Ponto Flutuante**  \n",
        "   - Alcance dinâmico amplo  \n",
        "   - Precisão relativa (varia com a magnitude do número)  \n",
        "   - Implementação e análise mais complexas  \n",
        "\n",
        "## Representação de Números Negativos\n",
        "Para números negativos, existem três formatos principais:\n",
        "\n",
        "### 1. Formato Sinal-Magnitude\n",
        "- Bit mais significativo (MSB) indica o sinal (0 = positivo, 1 = negativo)  \n",
        "- Magnitude representada pelos bits restantes  \n",
        "- Exemplo (8 bits):  \n",
        "  $$+5 = 00000101$$  \n",
        "  $$-5 = 10000101$$  \n",
        "\n",
        "### 2. Formato Complemento de Um\n",
        "- Números negativos são obtidos invertendo todos os bits do positivo correspondente  \n",
        "- Exemplo (8 bits):  \n",
        "  $$+5 = 00000101$$  \n",
        "  $$-5 = 11111010$$  \n",
        "\n",
        "### 3. Formato Complemento de Dois\n",
        "- Números negativos são obtidos invertendo os bits e somando 1  \n",
        "- Elimina a representação dupla do zero  \n",
        "- Exemplo (8 bits):  \n",
        "  $$+5 = 00000101$$  \n",
        "  $$-5 = 11111011$$  \n",
        "\n",
        "## Representação de Inteiros com Sinal\n",
        "Um número inteiro $x$ em representação binária de $B$ bits é dado por:\n",
        "\n",
        "$$x \\equiv b_{B-1}b_{B-2}...b_0 = b_{B-1} \\times 2^{B-1} + b_{B-2} \\times 2^{B-2} + \\cdots + b_0 \\times 2^0$$\n",
        "\n",
        "Onde cada $b_i$ representa 0 ou 1. Esta fórmula é válida para qualquer sistema numérico (hexadecimal, octal, etc.).\n",
        "\n",
        "## Extensão para Números Fracionários\n",
        "Os conceitos acima são estendidos para:\n",
        "- **Ponto Fixo Fracionário**: Mesmo formato, mas com bits representando potências negativas de 2  \n",
        "- **Ponto Flutuante**: Representação por mantissa e expoente (maior alcance dinâmico)"
      ],
      "metadata": {
        "id": "2chdDBl-WqcY"
      }
    },
    {
      "cell_type": "code",
      "source": [
        "import numpy as np\n",
        "\n",
        "def ones_complement(x, B):\n",
        "    \"\"\"\n",
        "    Converte números inteiros no formato sinal-magnitude para complemento de um\n",
        "\n",
        "    Parâmetros:\n",
        "        x: array ou valor inteiro entre -2^(B-1) < x < 2^(B-1) (sinal-magnitude)\n",
        "        B: número de bits\n",
        "\n",
        "    Retorna:\n",
        "        y: inteiros entre 0 <= y <= 2^B-1 (complemento de um)\n",
        "    \"\"\"\n",
        "    x = np.asarray(x)\n",
        "    if np.any((x <= -2**(B-1)) | (x >= 2**(B-1))):\n",
        "        raise ValueError('Números devem satisfazer -2^(B-1) < x < 2^(B-1)')\n",
        "\n",
        "    s = np.sign(x)  # sinal de x (-1 se x<0, 0 se x=0, 1 se x>0)\n",
        "    sb = (s < 0).astype(int)  # bit de sinal (0 se x>=0, 1 se x<0)\n",
        "\n",
        "    # Máscara para garantir que estamos trabalhando com B bits\n",
        "    mask = (1 << B) - 1\n",
        "    y = (1 - sb) * x + sb * ((1 << B) - 1 - np.abs(x))\n",
        "\n",
        "    return y & mask  # Aplicar máscara para garantir B bits\n",
        "\n",
        "# Exemplo equivalente ao Exemplo 6.11\n",
        "x = np.arange(-7, 8)  # Array de -7 a 7\n",
        "y = ones_complement(x, 4)\n",
        "\n",
        "print(\"Entrada (sinal-magnitude):\", x)\n",
        "print(\"Saída (complemento de 1):\", y)"
      ],
      "metadata": {
        "colab": {
          "base_uri": "https://localhost:8080/"
        },
        "id": "QWGrXsOrYWW0",
        "outputId": "6e3390c2-dc74-4fd9-bdf3-d8988d874c20"
      },
      "execution_count": 3,
      "outputs": [
        {
          "output_type": "stream",
          "name": "stdout",
          "text": [
            "Entrada (sinal-magnitude): [-7 -6 -5 -4 -3 -2 -1  0  1  2  3  4  5  6  7]\n",
            "Saída (complemento de 1): [ 8  9 10 11 12 13 14  0  1  2  3  4  5  6  7]\n"
          ]
        }
      ]
    },
    {
      "cell_type": "code",
      "source": [
        "import numpy as np\n",
        "\n",
        "def twos_complement(x, b):\n",
        "    \"\"\"\n",
        "    Converte números inteiros no formato sinal-magnitude para complemento de dois\n",
        "\n",
        "    Parâmetros:\n",
        "        x: array ou valor inteiro entre -2^(b-1) <= x < 2^(b-1) (sinal-magnitude)\n",
        "        b: número de bits\n",
        "\n",
        "    Retorna:\n",
        "        y: inteiros entre 0 <= y <= 2^b-1 (complemento de dois)\n",
        "    \"\"\"\n",
        "    x = np.asarray(x)\n",
        "    if np.any((x < -2**(b-1))) | np.any((x >= 2**(b-1))):\n",
        "        raise ValueError(f'Números devem satisfazer -2^{b-1} <= x < 2^{b-1}')\n",
        "\n",
        "    s = np.sign(x)  # sinal de x (-1 se x<0, 0 se x=0, 1 se x>0)\n",
        "    sb = (s < 0).astype(int)  # bit de sinal (0 se x>=0, 1 se x<0)\n",
        "\n",
        "    mask = (1 << b) - 1  # Máscara para garantir b bits\n",
        "    y = (1 - sb) * x + sb * ((1 << b) + x)\n",
        "\n",
        "    return y & mask\n",
        "\n",
        "# Exemplo equivalente ao Exemplo 6.12\n",
        "x = np.arange(-8, 8)  # Array de -8 a 7\n",
        "y = twos_complement(x, 4)\n",
        "\n",
        "print(\"Entrada (sinal-magnitude):\", x)\n",
        "print(\"Saída (complemento de 2):\", y)\n",
        "\n",
        "# Versão binária formatada (opcional)\n",
        "print(\"\\nRepresentação binária (4 bits):\")\n",
        "for num in y:\n",
        "    print(f\"{num:04b}\", end=' ')"
      ],
      "metadata": {
        "colab": {
          "base_uri": "https://localhost:8080/"
        },
        "id": "8Zic2SOqYYWf",
        "outputId": "95361f5c-0360-4177-e64f-f260d970a8b7"
      },
      "execution_count": 5,
      "outputs": [
        {
          "output_type": "stream",
          "name": "stdout",
          "text": [
            "Entrada (sinal-magnitude): [-8 -7 -6 -5 -4 -3 -2 -1  0  1  2  3  4  5  6  7]\n",
            "Saída (complemento de 2): [ 8  9 10 11 12 13 14 15  0  1  2  3  4  5  6  7]\n",
            "\n",
            "Representação binária (4 bits):\n",
            "1000 1001 1010 1011 1100 1101 1110 1111 0000 0001 0010 0011 0100 0101 0110 0111 "
          ]
        }
      ]
    },
    {
      "cell_type": "markdown",
      "source": [
        "# Aritmética de Ponto Fixo Geral\n",
        "\n",
        "## Representação de Números Reais em Ponto Fixo\n",
        "\n",
        "A representação de ponto fixo estende o conceito de inteiros para números reais (inteiros e fracionários). Um número real de precisão infinita $$x$$ é aproximado por um número binário $$\\hat{x}$$ com o seguinte formato:\n",
        "\n",
        "$$\n",
        "\\hat{x} = \\underbrace{\\pm}_{\\text{Bit de sinal}} \\underbrace{xx\\cdots x}_{L \\text{ bits inteiros}} \\underbrace{\\blacktriangle xx\\cdots x}_{B \\text{ bits fracionários}}\n",
        "$$\n",
        "\n",
        "### Componentes da Representação:\n",
        "1. **Bit de sinal** (1 bit):\n",
        "   - `0` para números positivos  \n",
        "   - `1` para números negativos  \n",
        "\n",
        "2. **Parte inteira** (L bits):\n",
        "   - Representa a parte inteira do número  \n",
        "   - Equivalente à representação binária padrão  \n",
        "\n",
        "3. **Parte fracionária** (B bits):\n",
        "   - Representa potências negativas de 2  \n",
        "   - $$\\blacktriangle$$ indica a posição do ponto binário  \n",
        "\n",
        "### Comprimento Total da Palavra:\n",
        "- **Total de bits**: $$L + B + 1$$ (1 bit de sinal + L bits inteiros + B bits fracionários)\n",
        "\n",
        "### Exemplo Numérico:\n",
        "Considere a representação $$L=3$$, $$B=2$$ (total 6 bits):\n",
        "\n",
        "- Número $$+5.75$$ em binário:\n",
        "  $$\n",
        "  \\underbrace{0}_{\\text{sinal}} \\underbrace{101}_{\\text{parte inteira (5)}} \\underbrace{\\blacktriangle 11}_{\\text{parte fracionária (0.75)}}\n",
        "  $$\n",
        "  - Parte inteira: $$1 \\times 2^2 + 0 \\times 2^1 + 1 \\times 2^0 = 5$$\n",
        "  - Parte fracionária: $$1 \\times 2^{-1} + 1 \\times 2^{-2} = 0.75$$\n",
        "\n",
        "## Características Importantes:\n",
        "1. **Faixa Dinâmica Limitada**:\n",
        "   - Máximo valor absoluto representável: $$2^L - 2^{-B}$$\n",
        "   - Mínimo valor absoluto: $$2^{-B}$$\n",
        "\n",
        "2. **Precisão Fixa**:\n",
        "   - Resolução constante: $$2^{-B}$$  \n",
        "   - Erro de quantização máximo: $$\\frac{2^{-B}}{2}$$\n",
        "\n",
        "3. **Eficiência Computacional**:\n",
        "   - Operações aritméticas mais rápidas que em ponto flutuante  \n",
        "   - Ideal para sistemas embarcados com recursos limitados"
      ],
      "metadata": {
        "id": "Iu9Iv7FhrNaG"
      }
    },
    {
      "cell_type": "markdown",
      "source": [
        "# Aritmética de Ponto Flutuante (6.6.3)\n",
        "\n",
        "## Motivação e Conceito Básico\n",
        "A representação em **ponto flutuante** resolve o problema de alcance dinâmico em aplicações que envolvem números com magnitudes extremamente diferentes (ex.: massa do Sol ≈ 2×10³⁰ kg vs. massa do elétron ≈ 9×10⁻³¹ kg).\n",
        "\n",
        "**Princípio fundamental**:\n",
        "$$ x = \\pm M \\times 10^{\\pm E} $$\n",
        "- **M (mantissa)**: Dígitos significativos (precisão)\n",
        "- **E (expoente)**: Ordem de magnitude (alcance)\n",
        "\n",
        "## Formato Normalizado\n",
        "Para evitar ambiguidades, usa-se **forma normalizada**:\n",
        "- Apenas **um dígito não-zero** à esquerda do ponto decimal  \n",
        "Exemplo:\n",
        "$$ 1234 = 1.234 \\times 10^3 \\quad \\text{(única representação normalizada)} $$\n",
        "\n",
        "## Representação Binária (IEEE-like)\n",
        "Para números binários, o formato segue uma estrutura similar mas com particularidades:\n",
        "\n",
        "$$\n",
        "\\hat{x} = \\underbrace{\\pm}_{\\text{Bit de sinal}} \\underbrace{1.xx\\cdots x}_{B \\text{ bits da mantissa}} \\times 2^{\\underbrace{xx\\cdots x}_{L \\text{ bits do expoente}}}\n",
        "$$\n",
        "\n",
        "### Características Chave:\n",
        "1. **Mantissa Normalizada**:\n",
        "   - Sempre inicia com `1` após o ponto binário (implícito em alguns padrões)\n",
        "   - Faixa: $$ \\frac{1}{2} \\leq M < 1 $$\n",
        "\n",
        "2. **Expoente em Excesso** (Excess-2<sup>L-1</sup>):\n",
        "   - Permite expoentes negativos sem bit de sinal separado\n",
        "   - Exemplo: 8 bits → excesso de 127 (Excesso-127)"
      ],
      "metadata": {
        "id": "NGN8pARprxOK"
      }
    },
    {
      "cell_type": "markdown",
      "source": [
        "\n",
        "3. **Equivalente Decimal**:\n",
        "$$ \\hat{x} = \\pm M \\times 2^E $$\n",
        "\n",
        "## Vantagens sobre Ponto Fixo\n",
        "| Característica       | Ponto Fixo          | Ponto Flutuante       |\n",
        "|----------------------|---------------------|-----------------------|\n",
        "| **Alcance Dinâmico** | Limitado            | Extremamente amplo    |\n",
        "| **Precisão**         | Uniforme            | Relativa à magnitude  |\n",
        "| **Overflow**         | Frequente em adições| Raro                  |\n",
        "\n",
        "## Exemplo Numérico (Binário)\n",
        "Considere um formato hipotético com:\n",
        "- **1 bit de sinal**\n",
        "- **4 bits de expoente** (Excesso-8)\n",
        "- **3 bits de mantissa**\n",
        "\n",
        "Representação do número $$ x = 1.101 \\times 2^{5} $$:\n",
        "- **Bit de sinal**: `0` (positivo)\n",
        "- **Expoente**: `5 + 8 = 13` → `1101` (binário)\n",
        "- **Mantissa**: `101` (parte fracionária)\n",
        "- **Bit pattern final**: `0 1101 101`\n",
        "\n",
        "## Limitações\n",
        "1. **Precisão Variável**: Erros relativos maiores para números muito pequenos\n",
        "2. **Complexidade**: Operações aritméticas mais custosas que em ponto fixo\n",
        "3. **Padronização**: Necessidade de conformidade com IEEE 754 para portabilidade"
      ],
      "metadata": {
        "id": "HlHGP-bcr-GN"
      }
    },
    {
      "cell_type": "markdown",
      "source": [
        "# 6.7 O Processo de Quantização e Caracterização de Erros\n",
        "\n",
        "## Fundamentos da Quantização\n",
        "A quantização é o processo de mapear um valor contínuo (ou de alta precisão) para um conjunto discreto de níveis. Em sistemas digitais, isso ocorre em três cenários principais:\n",
        "\n",
        "1. **Quantização de Sinais**: Conversão A/D de x(n) para x̂(n)\n",
        "2. **Quantização de Coeficientes**: Implementação de {aₖ,bₖ} como {âₖ,b̂ₖ}\n",
        "3. **Quantização Aritmética**: Limitação em operações (multiplicações, adições)\n",
        "\n",
        "## Modelo Matemático da Quantização\n",
        "Para um número real x, sua versão quantizada Q(x) é dada por:\n",
        "\n",
        "$$\n",
        "Q(x) = x + e_q\n",
        "$$\n",
        "\n",
        "Onde:\n",
        "- $$e_q$$ é o **erro de quantização**\n",
        "- Assume-se geralmente que $$e_q$$ é:\n",
        "  - Aleatório\n",
        "  - Uniformemente distribuído\n",
        "  - Não correlacionado com x\n",
        "\n",
        "## Tipos de Quantização\n",
        "### 1. Truncamento (Floor)\n",
        "- Descarta bits menos significativos\n",
        "- Viés negativo: $$ -\\Delta < e_q \\leq 0 $$\n",
        "- Equação: $$ Q_T(x) = \\Delta \\cdot \\lfloor x/\\Delta \\rfloor $$\n",
        "\n",
        "### 2. Arredondamento (Round)\n",
        "- Nível mais próximo\n",
        "- Simétrico: $$ -\\Delta/2 \\leq e_q \\leq \\Delta/2 $$\n",
        "- Equação: $$ Q_R(x) = \\Delta \\cdot \\lfloor x/\\Delta + 0.5 \\rfloor $$\n",
        "\n",
        "*(Onde Δ = 2⁻ᴮ para B bits fracionários)*\n",
        "\n",
        "## Análise Estatística do Erro\n",
        "| Parâmetro       | Truncamento | Arredondamento |\n",
        "|----------------|------------|---------------|\n",
        "| Média (μ)      | -Δ/2       | 0             |\n",
        "| Variância (σ²) | Δ²/12      | Δ²/12         |\n",
        "\n",
        "## Efeitos na Implementação de Filtros\n",
        "### 1. Ruído de Quantização\n",
        "- Modelado como aditivo: $$ y(n) = y_{ideal}(n) + e(n) $$\n",
        "- Potência do ruído: $$ \\sigma_e^2 = \\frac{2^{-2B}}{12} $$\n",
        "\n",
        "### 2. Propagação em Filtros IIR\n",
        "A saída do ruído para um filtro com função de transferência H(z):\n",
        "\n",
        "$$\n",
        "\\sigma_y^2 = \\sigma_e^2 \\cdot \\frac{1}{2\\pi j} \\oint H(z)H(z^{-1})z^{-1}dz\n",
        "$$\n"
      ],
      "metadata": {
        "id": "-SqGkWnxwsq-"
      }
    },
    {
      "cell_type": "markdown",
      "source": [
        "# ## Exemplo 6.20: Caracterização do Erro de Truncamento\n",
        " **Objetivo**: Verificar as relações de erro para truncamento com B=2 bits no intervalo -1 < x < 1\n",
        "\n",
        "### Teoria Básica\n",
        "Para truncamento com B bits fracionários:\n",
        "- **Resolução (Δ)**: $$ \\Delta = 2^{-B} = 0.25 $$ (para B=2)\n",
        "- **Erro de truncamento**: $$ -\\Delta < e_T \\leq 0 $$"
      ],
      "metadata": {
        "id": "AlOGcsvNxTrz"
      }
    },
    {
      "cell_type": "code",
      "source": [
        "import numpy as np\n",
        "import matplotlib.pyplot as plt\n",
        "\n",
        "# Configuração do problema\n",
        "B = 2  # Número de bits fracionários\n",
        "delta = 2**(-B)  # Resolução = 0.25\n",
        "\n",
        "# Geração do sinal de entrada (evitando os extremos -1 e 1)\n",
        "x = np.arange(-1 + 2**(-10), 1 - 2**(-10), 2**(-10))\n",
        "\n",
        "# Quantização por truncamento (equivalente ao 'fix' do MATLAB)\n",
        "x_quantized = np.floor(x * 2**B) / 2**B\n",
        "\n",
        "# Cálculo do erro\n",
        "error = x_quantized - x\n",
        "\n",
        "# Gráfico 1: Sinal original vs. quantizado\n",
        "plt.figure(figsize=(12, 6))\n",
        "plt.subplot(2, 1, 1)\n",
        "plt.plot(x, x, 'g-', linewidth=2, label='Original')\n",
        "plt.plot(x, x_quantized, 'r--', linewidth=1.5, label='Quantizado (B=2)')\n",
        "plt.title('Comparação: Sinal Original vs. Quantizado por Truncamento')\n",
        "plt.xlabel('x'); plt.ylabel('Amplitude')\n",
        "plt.legend(); plt.grid(True)\n",
        "\n",
        "# Gráfico 2: Erro de quantização\n",
        "plt.subplot(2, 1, 2)\n",
        "plt.plot(x, error, 'b', linewidth=1)\n",
        "plt.title('Perfil do Erro de Truncamento')\n",
        "plt.xlabel('x'); plt.ylabel('Erro (x_quantized - x)')\n",
        "plt.ylim([-delta, 0.05])  # Mostrando o limite teórico\n",
        "plt.grid(True)\n",
        "plt.tight_layout()\n",
        "plt.show()"
      ],
      "metadata": {
        "colab": {
          "base_uri": "https://localhost:8080/",
          "height": 607
        },
        "id": "H8ZPhl21Zti9",
        "outputId": "41bf19c7-eb21-4cfc-9669-cffe3e999bfe"
      },
      "execution_count": 6,
      "outputs": [
        {
          "output_type": "display_data",
          "data": {
            "text/plain": [
              "<Figure size 1200x600 with 2 Axes>"
            ],
            "image/png": "[encoded data removed]"
          },
          "metadata": {}
        }
      ]
    },
    {
      "cell_type": "code",
      "source": [
        "print(f\"Resolução teórica (Δ): {delta:.4f}\")\n",
        "print(f\"Média do erro: {np.mean(error):.6f} (Teórica: -Δ/2 = {-delta/2:.4f})\")\n",
        "print(f\"Variância do erro: {np.var(error):.6f} (Teórica: Δ²/12 = {(delta**2)/12:.6f})\")\n",
        "print(f\"Erro mínimo: {np.min(error):.6f}\")\n",
        "print(f\"Erro máximo: {np.max(error):.6f}\")"
      ],
      "metadata": {
        "colab": {
          "base_uri": "https://localhost:8080/"
        },
        "id": "f7Y20Q2Gxooq",
        "outputId": "aa62fe5e-eae6-44f6-9d14-d89571581bbf"
      },
      "execution_count": 7,
      "outputs": [
        {
          "output_type": "stream",
          "name": "stdout",
          "text": [
            "Resolução teórica (Δ): 0.2500\n",
            "Média do erro: -0.124512 (Teórica: -Δ/2 = -0.1250)\n",
            "Variância do erro: 0.005198 (Teórica: Δ²/12 = 0.005208)\n",
            "Erro mínimo: -0.249023\n",
            "Erro máximo: 0.000000\n"
          ]
        }
      ]
    },
    {
      "cell_type": "code",
      "source": [],
      "metadata": {
        "id": "kyMKjtGWxvZn"
      },
      "execution_count": null,
      "outputs": []
    },
    {
      "cell_type": "markdown",
      "source": [
        "# 6.8 Quantização de Coeficientes de Filtros\n",
        "\n",
        "##  Filtros IIR\n",
        "\n",
        "### Impacto Fundamental\n",
        "A quantização de coeficientes em filtros IIR pode alterar radicalmente suas propriedades devido à natureza recursiva. Os principais efeitos incluem:\n",
        "\n",
        "1. **Deslocamento de Polos**:\n",
        "   - Pequenas variações nos coeficientes podem mover polos para fora do círculo unitário, tornando o sistema instável\n",
        "   - Sensibilidade especialmente crítica em filtros de alta ordem\n",
        "\n",
        "2. **Mudança na Resposta Temporal**:\n",
        "   - Constantes de tempo alteradas\n",
        "   - Possível introdução de oscilações não previstas\n",
        "\n",
        "3. **Propagação de Erros**:\n",
        "   - Erros nos coeficientes se propagam através das seções recursivas\n",
        "   - Efeito cumulativo em estruturas em cascata\n",
        "\n",
        "##  Efeito nas Localizações de Polos e Zeros\n",
        "\n",
        "### Mecanismo de Perturbação\n",
        "Para um filtro com função de transferência:\n",
        "\n",
        "$$\n",
        "H(z) = \\frac{\\sum_{k=0}^M b_k z^{-k}}{1 + \\sum_{k=1}^N a_k z^{-k}}\n",
        "$$\n",
        "\n",
        "A quantização altera:\n",
        "- **Posições de zeros** (menos crítico em IIR)\n",
        "- **Posições de polos** (altamente sensível)\n",
        "\n",
        "### Teoria da Sensibilidade\n",
        "A sensibilidade da posição de um polo $p_i$ em relação ao coeficiente $a_k$ é dada por:\n",
        "\n",
        "$$\n",
        "\\frac{\\partial p_i}{\\partial a_k} = -\\frac{p_i^{N-k}}{\\prod_{l \\neq i}(p_i - p_l)}\n",
        "$$\n",
        "\n",
        "Implicações:\n",
        "1. **Polos Agrupados** → Maior sensibilidade\n",
        "2. **Ordem Elevada** → Efeitos mais pronunciados\n",
        "3. **Polos Próximos ao Círculo Unitário** → Risco de instabilidade\n",
        "\n",
        "### Caso Prático Típico\n",
        "- Filtro elíptico de 8ª ordem pode se tornar instável com 12 bits\n",
        "- Filtro Butterworth mostra menor sensibilidade que Chebyshev\n",
        "\n",
        "##  Efeitos na Resposta em Frequência\n",
        "\n",
        "### Alterações Qualitativas\n",
        "1. **Banda de Passagem**:\n",
        "   - Variação no ripple\n",
        "   - Mudança na frequência de corte\n",
        "\n",
        "2. **Banda de Rejeição**:\n",
        "   - Redução da atenuação\n",
        "   - Aparecimento de \"lóbulos\" extras\n",
        "\n",
        "3. **Transição**:\n",
        "   - Alargamento da banda de transição\n",
        "   - Inclinação alterada\n",
        "\n",
        "### Métricas Quantitativas\n",
        "- **Erro Relativo na Magnitude**:\n",
        "\n",
        "  $$\n",
        "  \\delta_H(\\omega) = \\frac{|H_q(e^{j\\omega}) - H(e^{j\\omega})|}{|H(e^{j\\omega})|}\n",
        "  $$\n",
        "\n",
        "- **Desvio de Fase**:\n",
        "  - Crítico em aplicações de processamento de sinais temporais\n",
        "\n",
        "### Fatores de Influência\n",
        "| Fator | Impacto na Resposta |\n",
        "|-------|---------------------|\n",
        "| Número de bits | Melhoria logarítmica com aumento de bits |\n",
        "| Tipo de Filtro | Elíptico > Chebyshev > Butterworth |\n",
        "| Estrutura | Cascata > Paralela > Direta |\n",
        "\n"
      ],
      "metadata": {
        "id": "tylOgoFEyNup"
      }
    },
    {
      "cell_type": "markdown",
      "source": [
        "## Exemplo 6.25: Ressonador Digital\n",
        "\n",
        "### Sistema Original\n",
        "- **Coeficientes**:\n",
        "  $$ a_1 = -0.9, \\quad a_2 = 0.81 $$\n",
        "- **Polos**:\n",
        "  $$ p_{1,2} = 0.9e^{\\pm j\\pi/3} $$ (raio = 0.9, ângulo = ±60°)\n",
        "\n",
        "### Processo de Quantização\n",
        "A função `QCoeff` realiza:\n",
        "1. Determinação automática de bits inteiros (L) e fracionários (B)\n",
        "2. Quantização por arredondamento para N bits totais\n",
        "3. Preservação do sinal original"
      ],
      "metadata": {
        "id": "5urgTegwz_r3"
      }
    },
    {
      "cell_type": "code",
      "source": [
        "import numpy as np\n",
        "\n",
        "def q_coeff(x, N):\n",
        "    xm = np.max(np.abs(x)) # Encontra o valor absoluto máximo para determinar L\n",
        "    if xm == 0: # Lidar com o caso de input zero\n",
        "        L = 0\n",
        "    else:\n",
        "        L = np.maximum(0, np.floor(np.log2(xm) + 1)).astype(int)\n",
        "\n",
        "\n",
        "    if N <= L:\n",
        "        raise ValueError(f'O número total de bits N ({N}) deve ser maior que o número de bits inteiros necessários L ({L}). Considere aumentar N.')\n",
        "\n",
        "    B = N - L - 1 # N = 1 (sinal) + L (inteiro) + B (fracionário)\n",
        "\n",
        "\n",
        "    scaled_x = x * (2**B)\n",
        "\n",
        "    # Arredondar para o inteiro mais próximo\n",
        "    rounded_x = np.round(scaled_x)\n",
        "\n",
        "    # Escalar de volta dividindo por 2^B\n",
        "    y = rounded_x / (2**B)\n",
        "\n",
        "    return y, L, B\n",
        "\n",
        "# Coeficientes originais\n",
        "a1, a2 = -0.9, 0.81\n",
        "\n",
        "N_bits = 4\n",
        "try:\n",
        "    a_quant, L, B = q_coeff(np.array([a1, a2]), N_bits)\n",
        "    print(f'Coeficientes originais: [{a1}, {a2}]')\n",
        "    print(f'Coeficientes quantizados ({N_bits} bits): {a_quant}')\n",
        "    print(f'Bits inteiros (L): {L}, Bits fracionários (B): {B}')\n",
        "\n",
        "    # Cálculo dos polos\n",
        "    # Originais\n",
        "    r = 0.9\n",
        "    theta = np.pi/3\n",
        "    p1 = r * np.exp(1j * theta)\n",
        "\n",
        "    if a_quant[1] < 0:\n",
        "        print(\"Erro: Coeficiente a_quant[1] é negativo, polos complexos não podem ser calculados desta forma.\")\n",
        "    else:\n",
        "        r_hat = np.sqrt(a_quant[1])\n",
        "        # Certifique-se que o argumento de arccos está entre -1 e 1\n",
        "        arg_theta_hat = -a_quant[0]/(2*r_hat)\n",
        "        if np.abs(arg_theta_hat) > 1:\n",
        "             print(f\"Erro: Argumento de arccos fora do intervalo [-1, 1]: {arg_theta_hat:.4f}\")\n",
        "        else:\n",
        "            theta_hat = np.arccos(arg_theta_hat)\n",
        "            p1_hat = r_hat * np.exp(1j * theta_hat)\n",
        "\n",
        "            # Variação na posição dos polos\n",
        "            delta_p = np.abs(p1 - p1_hat)\n",
        "            print(f'Polo original: {p1:.4f}')\n",
        "            print(f'Polo quantizado: {p1_hat:.4f}')\n",
        "            print(f'Deslocamento do polo: {delta_p:.4f}')\n",
        "\n",
        "except ValueError as e:\n",
        "    print(f\"Erro ao quantizar: {e}\")"
      ],
      "metadata": {
        "colab": {
          "base_uri": "https://localhost:8080/"
        },
        "id": "4vrz9mg20LZ9",
        "outputId": "2331bda3-fed8-427a-8ee0-56e0df2c1426"
      },
      "execution_count": 11,
      "outputs": [
        {
          "output_type": "stream",
          "name": "stdout",
          "text": [
            "Coeficientes originais: [-0.9, 0.81]\n",
            "Coeficientes quantizados (4 bits): [-0.875  0.75 ]\n",
            "Bits inteiros (L): 0, Bits fracionários (B): 3\n",
            "Polo original: 0.4500+0.7794j\n",
            "Polo quantizado: 0.4375+0.7474j\n",
            "Deslocamento do polo: 0.0344\n"
          ]
        }
      ]
    },
    {
      "cell_type": "code",
      "source": [],
      "metadata": {
        "id": "LC2MYnpK0VNz"
      },
      "execution_count": null,
      "outputs": []
    }
  ]
}